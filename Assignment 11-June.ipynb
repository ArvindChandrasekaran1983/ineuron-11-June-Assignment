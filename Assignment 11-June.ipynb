{
 "cells": [
  {
   "cell_type": "markdown",
   "id": "77e46b7a",
   "metadata": {},
   "source": [
    "### Q 1. What is a lambda function in Python, and how does it differ from a regular function?\n",
    "\n",
    "#### Ans : Lambda is a way to define a single or small line function without a name. SImple functions can be created quickly like addition of 2 numbers, or taking the square etc.\n",
    "\n",
    "Difference Between Lambda Function and Regular Function\n",
    "\n",
    "1. Lambda can be written as a single line of code without any seperate def, whereas regular functions are defined using def keyword.\n",
    "\n",
    "2. Lambda functions can be used as and when needed as they dont have a name. Whereas regular functions are defined with the name that identifies them and can always be called by their name\n",
    "\n",
    "3. Lambda cannot have loops only expressions whereas regular functions can have loops as well\n"
   ]
  },
  {
   "cell_type": "markdown",
   "id": "182f7d8d",
   "metadata": {},
   "source": [
    "### Q 2. Can a lambda function in Python have multiple arguments? If yes, how can you define and use them?"
   ]
  },
  {
   "cell_type": "code",
   "execution_count": 1,
   "id": "9c35366f",
   "metadata": {},
   "outputs": [
    {
     "name": "stdout",
     "output_type": "stream",
     "text": [
      "200\n"
     ]
    }
   ],
   "source": [
    "## Yes, a lambda function in python can have multiple arguments. The Syntax would be lambda argument1,argument2,.....,argumentN: Expression.\n",
    "\n",
    "## Eg of using multiple arguments\n",
    "\n",
    "# Define a lambda function to calculate the product of two numbers\n",
    "mul_numbers = lambda x, y: x * y\n",
    "\n",
    "# Call the lambda function\n",
    "result = mul_numbers(10, 20)\n",
    "print(result)\n"
   ]
  },
  {
   "cell_type": "markdown",
   "id": "a22a84e2",
   "metadata": {},
   "source": [
    "### Q 3. How are lambda functions typically used in Python? Provide an example use case.\n",
    "\n",
    "#### Lambda Functions are used in creating a single line functions without defining the def . They are generally used if there is no requirement for a name to be assigned to them. "
   ]
  },
  {
   "cell_type": "markdown",
   "id": "e991615a",
   "metadata": {},
   "source": [
    "## Case Study: Suppose we have a list of numbers and we need to find out the even numbers from the list. We can see that the output is the same for both the regular and lambda"
   ]
  },
  {
   "cell_type": "code",
   "execution_count": 2,
   "id": "b26ff3f4",
   "metadata": {},
   "outputs": [
    {
     "name": "stdout",
     "output_type": "stream",
     "text": [
      "[2, 4, 6, 8, 10]\n",
      "========================================\n",
      "[2, 4, 6, 8, 10]\n"
     ]
    }
   ],
   "source": [
    "#### Example: Filtering even numbers using lambda function with filter()\n",
    "\n",
    "numbers = [1, 2, 3, 4, 5, 6, 7, 8, 9, 10]\n",
    "\n",
    "# Using a regular function\n",
    "def is_even(num):\n",
    "    return num % 2 == 0\n",
    "\n",
    "even_numbers = filter(is_even, numbers)\n",
    "print(list(even_numbers))  # Output: [2, 4, 6, 8, 10]\n",
    "\n",
    "print('========================================')\n",
    "\n",
    "# Using a lambda function:\n",
    "even_numbers = filter(lambda num: num % 2 == 0, numbers)\n",
    "print(list(even_numbers)) "
   ]
  },
  {
   "cell_type": "markdown",
   "id": "7be813f7",
   "metadata": {},
   "source": [
    "### Q  4 What are the advantages and limitations of lambda functions compared to regular functions in Python?\n",
    "\n",
    "#### Advantages:\n",
    "1. Lambda can be used when the tasks are small and simple and need quick implementations as it is a single line function\n",
    "2. Lambda functions dont have a name and can be used for a specific task\n",
    "\n",
    "#### Disadvantages/Limitations:\n",
    "1. Lambda functions cannot be used in complex scenarios\n",
    "2. They are not reader friendly as the expression might become too long\n",
    "3. They cannot be reused as they are designed for small or one time tasks."
   ]
  },
  {
   "cell_type": "markdown",
   "id": "35a37d4a",
   "metadata": {},
   "source": [
    "### Q 5. Are lambda functions in Python able to access variables defined outside of their own scope?Explain with an example.\n",
    "\n",
    "Yes, Lambda functions in pythin are able to access variables defined outside their own scope."
   ]
  },
  {
   "cell_type": "code",
   "execution_count": 3,
   "id": "42ad3188",
   "metadata": {},
   "outputs": [
    {
     "name": "stdout",
     "output_type": "stream",
     "text": [
      "15\n"
     ]
    }
   ],
   "source": [
    "## Example:\n",
    "\n",
    "def outer_function():\n",
    "    x = 10\n",
    "    \n",
    "    # Define a lambda function that accesses the variable 'x' from the enclosing scope\n",
    "    lambda_func = lambda y: x + y\n",
    "    \n",
    "    return lambda_func\n",
    "\n",
    "# Call the outer function to get the lambda function\n",
    "my_lambda = outer_function()\n",
    "\n",
    "# Call the lambda function and pass an argument\n",
    "result = my_lambda(5)\n",
    "\n",
    "print(result)"
   ]
  },
  {
   "cell_type": "markdown",
   "id": "df68682e",
   "metadata": {},
   "source": [
    "## Explanation of the Code\n",
    "\n",
    "In this example, the outer_function defines a variable x with a value of 10. Inside the outer_function, a lambda function lambda_func is defined, which takes a parameter y and returns the sum of x and y. Even though x is defined in the enclosing scope of lambda_func, the lambda function is able to access and use the value of x when it is called outside the outer_function.\n",
    "\n",
    "When we call outer_function() and assign the returned lambda function to my_lambda, we essentially capture the value of x in the lambda function's closure. Later, when we call my_lambda(5), it adds 5 to the captured value of x (which is 10), resulting in a sum of 15.\n"
   ]
  },
  {
   "cell_type": "code",
   "execution_count": 6,
   "id": "52fab6bc",
   "metadata": {},
   "outputs": [
    {
     "name": "stdout",
     "output_type": "stream",
     "text": [
      "25\n"
     ]
    }
   ],
   "source": [
    "## Q 6. Write a lambda function to calculate the square of a given number.\n",
    "\n",
    "sqr=lambda x:x**2\n",
    "print(sqr(5))"
   ]
  },
  {
   "cell_type": "code",
   "execution_count": 7,
   "id": "de014dec",
   "metadata": {},
   "outputs": [
    {
     "name": "stdout",
     "output_type": "stream",
     "text": [
      "85\n"
     ]
    }
   ],
   "source": [
    "## Q 7. Create a lambda function to find the maximum value in a list of integers.\n",
    "\n",
    "max_value = lambda lst: max(lst)\n",
    "\n",
    "# Example usage\n",
    "numbers = [25,85,6,57,69,68]\n",
    "result = max_value(numbers)\n",
    "print(result)"
   ]
  },
  {
   "cell_type": "code",
   "execution_count": 9,
   "id": "9a00639c",
   "metadata": {},
   "outputs": [
    {
     "name": "stdout",
     "output_type": "stream",
     "text": [
      "[2, 4, 6, 8, 10]\n"
     ]
    }
   ],
   "source": [
    "## Q 8.  Implement a lambda function to filter out all the even numbers from a list of integers.\n",
    "\n",
    "numbers = [1, 2, 3, 4, 5, 6, 7, 8, 9, 10]\n",
    "\n",
    "filtered_numbers = list(filter(lambda x: x % 2 == 0, numbers))\n",
    "\n",
    "print(filtered_numbers)"
   ]
  },
  {
   "cell_type": "code",
   "execution_count": 11,
   "id": "61a7a0e1",
   "metadata": {},
   "outputs": [
    {
     "name": "stdout",
     "output_type": "stream",
     "text": [
      "['kiwi', 'apples', 'bananas', 'mangoes', 'pistachio']\n"
     ]
    }
   ],
   "source": [
    "## Q 9. Write a lambda function to sort a list of strings in ascending order based on the length of each string.\n",
    "\n",
    "string=['apples','kiwi','bananas','pistachio','mangoes']\n",
    "\n",
    "sorted_strings=sorted(string,key=lambda x:len(x))\n",
    "\n",
    "print(sorted_strings)"
   ]
  },
  {
   "cell_type": "code",
   "execution_count": 12,
   "id": "7eb2364a",
   "metadata": {},
   "outputs": [
    {
     "name": "stdout",
     "output_type": "stream",
     "text": [
      "[4, 5]\n"
     ]
    }
   ],
   "source": [
    "## Q 10. Create a lambda function that takes two lists as input and returns a new list containing the common elements between the two lists.\n",
    "common_elements = lambda list1, list2: list(set(list1) & set(list2))\n",
    "\n",
    "list1 = [1, 2, 3, 4, 5]\n",
    "list2 = [4, 5, 6, 7, 8]\n",
    "result = common_elements(list1, list2)\n",
    "print(result)"
   ]
  },
  {
   "cell_type": "code",
   "execution_count": 14,
   "id": "62a0e20b",
   "metadata": {},
   "outputs": [
    {
     "name": "stdout",
     "output_type": "stream",
     "text": [
      "3628800\n"
     ]
    }
   ],
   "source": [
    "## Q 11. Write a recursive function to calculate the factorial of a given positive integer.\n",
    "\n",
    "def factorial(n):\n",
    "    if n == 0:\n",
    "        return 1\n",
    "    else:\n",
    "        return n * factorial(n - 1)\n",
    "    \n",
    "print(factorial(10))"
   ]
  },
  {
   "cell_type": "code",
   "execution_count": 16,
   "id": "71b43dea",
   "metadata": {},
   "outputs": [
    {
     "name": "stdout",
     "output_type": "stream",
     "text": [
      "The 20th Fibonacci number is: 6765\n"
     ]
    }
   ],
   "source": [
    "## Q 12. Implement a recursive function to compute the nth Fibonacci number.\n",
    "\n",
    "def fibonacci(n):\n",
    "    if n <= 0:\n",
    "        return None  \n",
    "    elif n == 1 or n == 2:\n",
    "        return 1\n",
    "    else:\n",
    "        return fibonacci(n - 1) + fibonacci(n - 2)\n",
    "\n",
    "# Test the function\n",
    "n = 20\n",
    "result = fibonacci(n)\n",
    "print(f\"The {n}th Fibonacci number is: {result}\")"
   ]
  },
  {
   "cell_type": "code",
   "execution_count": 19,
   "id": "9d846d3e",
   "metadata": {},
   "outputs": [],
   "source": [
    "## Q 13. Create a recursive function to find the sum of all the elements in a given list.\n",
    "\n",
    "def recursive_sum(lst):\n",
    "    if len(lst) == 0:\n",
    "        return 0\n",
    "    else:\n",
    "        return lst[0] + recursive_sum(lst[1:])\n",
    "    "
   ]
  },
  {
   "cell_type": "code",
   "execution_count": 20,
   "id": "3c993cbf",
   "metadata": {},
   "outputs": [
    {
     "name": "stdout",
     "output_type": "stream",
     "text": [
      "40\n"
     ]
    }
   ],
   "source": [
    "## Testing\n",
    "\n",
    "my_list=[2,4,6,7,9,8,1,3]\n",
    "result=recursive_sum(my_list)\n",
    "\n",
    "print(result)"
   ]
  },
  {
   "cell_type": "code",
   "execution_count": 21,
   "id": "ff1c7661",
   "metadata": {},
   "outputs": [],
   "source": [
    "## Q 14. Write a recursive function to determine whether a given string is a palindrome.\n",
    "\n",
    "def is_palindrome(string):\n",
    "\n",
    "    if len(string) <= 1:\n",
    "        return True\n",
    "\n",
    "    # Check if the first and last characters are equal\n",
    "    if string[0] == string[-1]:\n",
    "        # Recursively call the function with the substring excluding the first and last characters\n",
    "        return is_palindrome(string[1:-1])\n",
    "    \n",
    "    # If the first and last characters are not equal, it's not a palindrome\n",
    "    return False"
   ]
  },
  {
   "cell_type": "code",
   "execution_count": 22,
   "id": "b456920a",
   "metadata": {},
   "outputs": [
    {
     "name": "stdout",
     "output_type": "stream",
     "text": [
      "True\n",
      "False\n",
      "True\n",
      "True\n"
     ]
    }
   ],
   "source": [
    "print(is_palindrome(\"radar\"))    \n",
    "print(is_palindrome(\"hello\"))    \n",
    "print(is_palindrome(\"noon\"))     \n",
    "print(is_palindrome(\"miim\"))   "
   ]
  },
  {
   "cell_type": "code",
   "execution_count": 24,
   "id": "8d19262d",
   "metadata": {},
   "outputs": [
    {
     "name": "stdout",
     "output_type": "stream",
     "text": [
      "1\n"
     ]
    }
   ],
   "source": [
    "## Q 15. Implement a recursive function to find the greatest common divisor (GCD) of two positive integers.\n",
    "\n",
    "def gcd_recursive(a, b):\n",
    "    if b == 0:\n",
    "        return a\n",
    "    else:\n",
    "        return gcd_recursive(b, a % b)\n",
    "    \n",
    "result=gcd_recursive(5,6)\n",
    "\n",
    "print(result)"
   ]
  }
 ],
 "metadata": {
  "kernelspec": {
   "display_name": "Python 3 (ipykernel)",
   "language": "python",
   "name": "python3"
  },
  "language_info": {
   "codemirror_mode": {
    "name": "ipython",
    "version": 3
   },
   "file_extension": ".py",
   "mimetype": "text/x-python",
   "name": "python",
   "nbconvert_exporter": "python",
   "pygments_lexer": "ipython3",
   "version": "3.9.12"
  }
 },
 "nbformat": 4,
 "nbformat_minor": 5
}
